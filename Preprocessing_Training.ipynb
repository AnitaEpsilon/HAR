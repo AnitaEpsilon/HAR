{
 "cells": [
  {
   "cell_type": "markdown",
   "metadata": {},
   "source": [
    "# Preprocessing + Training"
   ]
  },
  {
   "cell_type": "markdown",
   "metadata": {},
   "source": [
    "This notebook is designed for image preprocessing and model training."
   ]
  },
  {
   "cell_type": "markdown",
   "metadata": {
    "id": "Uh6tManQ60jk"
   },
  },
  {
   "cell_type": "code",
   "execution_count": 2,
   "metadata": {
    "colab": {
     "base_uri": "https://localhost:8080/"
    },
    "id": "op1-fmLTtW31",
    "outputId": "c7c27448-ccac-4ba7-8a53-284af7b951c0"
   },
   "outputs": [
    {
     "name": "stderr",
     "output_type": "stream",
     "text": [
      "UsageError: Line magic function `%tensorflow_version` not found.\n"
     ]
    }
   ],
   "source": [
    "import torch\n",
    "import scipy.io as spio\n",
    "import numpy as np\n",
    "import matplotlib.pyplot as plt\n",
    "%matplotlib inline\n",
    "\n",
    "from scipy.io import loadmat\n",
    "import os\n",
    "from tqdm import tqdm\n",
    "import copy\n",
    "\n",
    "import pandas as pd\n",
    "import matplotlib.pyplot as plt\n",
    "import os\n",
    "\n",
    "%tensorflow_version 1.x\n",
    "from torchvision.transforms import Compose, Grayscale\n",
    "import torchvision.transforms as transforms\n",
    "from torchvision.transforms.functional import to_grayscale\n",
    "\n",
    "from PIL import Image, ImageDraw \n",
    "from sklearn.model_selection import train_test_split, cross_val_score\n",
    "from __future__ import print_function\n",
    "\n",
    "import keras\n",
    "from keras.utils import to_categorical\n",
    "from keras import models\n",
    "from keras import layers\n",
    "from keras.datasets import imdb\n",
    "from keras.datasets import cifar10\n",
    "from keras.preprocessing.image import ImageDataGenerator\n",
    "from keras.models import Sequential\n",
    "from keras.layers import Dense, Dropout, Activation, Flatten\n",
    "from keras.layers import Conv2D, MaxPooling2D\n",
    "\n",
    "from sklearn.model_selection import KFold\n",
    "\n",
    "from numpy.random import seed\n",
    "from numpy import asarray\n",
    "from tensorflow import set_random_seed\n",
    "\n",
    "import tensorflow as tf\n",
    "import datetime\n",
    "import glob"
   ]
  },
  {
   "cell_type": "code",
   "execution_count": null,
   "metadata": {
    "colab": {
     "base_uri": "https://localhost:8080/"
    },
    "id": "bEw37XYb60j-",
    "outputId": "e9bf5bb1-10a4-4a6c-f05d-92954ba86a5f"
   },
   "outputs": [],
   "source": [
    "keras.applications.resnet_v2.ResNet50V2()\n",
    "keras.applications.resnet_v2.ResNet101V2()\n",
    "keras.applications.resnet_v2.ResNet152V2()\n",
    "\n",
    "keras.applications.resnet.ResNet50()\n",
    "keras.applications.resnet.ResNet101()\n",
    "keras.applications.resnet.ResNet152()"
   ]
  },
  {
   "cell_type": "markdown",
   "metadata": {
    "id": "2NaM8al560jw"
   },
   "source": [
    "## Предобработка данных"
   ]
  },
  {
   "cell_type": "markdown",
   "metadata": {
    "id": "djPVCplS60jw"
   },
   "source": [
    "Создадим массив _classes_, содержащий в себе различные типы действий. Всего в датасете встречаются 17 типов действий, включая 7 типов повседневных действий и 8 типов падения:"
   ]
  },
  {
   "cell_type": "code",
   "execution_count": 2,
   "metadata": {
    "id": "lGQOVCdZH7vt"
   },
   "outputs": [],
   "source": [
    "classes = [\n",
    "    'StandingUpFS',\n",
    "    'StandingUpFL',\n",
    "    'Walking',\n",
    "    'Running',\n",
    "    'GoingUpS',\n",
    "    'Jumping',\n",
    "    'GoingDownS',\n",
    "    'LyingDownFS',\n",
    "    'SittingDown',\n",
    "    'FallingForw',\n",
    "    'FallingRight',\n",
    "    'FallingBack',\n",
    "    'HittingObstacle',\n",
    "    'FallingWithPS',\n",
    "    'FallingBackSC',\n",
    "    'Syncope',\n",
    "    'FallingLeft'\n",
    "]"
   ]
  },
  {
   "cell_type": "markdown",
   "metadata": {
    "id": "7JcgikEK60jx"
   },
   "source": [
    "При помощи метода _transforms.Compose_ скомбинируем методы _transforms.ToTensor_ (превращает изображение с пикселями из диапазона [0, 255] в тензор с дмапазоном значений [0, 1]) и _transforms.Normalize_ (производит нормировку изображения; в качестве аргументов данный метод получает среднее значение и среднеквадратичное отклонение) в один метод _transform_:"
   ]
  },
  {
   "cell_type": "code",
   "execution_count": 3,
   "metadata": {
    "id": "Z9P4w3jpI7Zh"
   },
   "outputs": [],
   "source": [
    "transform = transforms.Compose([transforms.ToTensor(),\n",
    "        transforms.Normalize((0.5,), (0.5,))])"
   ]
  },
  {
   "cell_type": "markdown",
   "metadata": {
    "id": "TPPGTeDX60jy"
   },
   "source": [
    "Заведем словарь _dict_classes_, который будет каждому типу класса ставить в соответствие уникальный индекс:"
   ]
  },
  {
   "cell_type": "code",
   "execution_count": 4,
   "metadata": {
    "id": "Iy893yb2I7Zu"
   },
   "outputs": [],
   "source": [
    "dict_classes = {}\n",
    "i = 0\n",
    "for activity in classes:\n",
    "    dict_classes[activity] = i\n",
    "    i += 1"
   ]
  },
  {
   "cell_type": "code",
   "execution_count": 5,
   "metadata": {
    "colab": {
     "base_uri": "https://localhost:8080/"
    },
    "id": "cmi2gCL660j1",
    "outputId": "2b0b2f4c-8843-4305-ae67-84f942456dfc"
   },
   "outputs": [
    {
     "data": {
      "text/plain": [
       "{'FallingBack': 11,\n",
       " 'FallingBackSC': 14,\n",
       " 'FallingForw': 9,\n",
       " 'FallingLeft': 16,\n",
       " 'FallingRight': 10,\n",
       " 'FallingWithPS': 13,\n",
       " 'GoingDownS': 6,\n",
       " 'GoingUpS': 4,\n",
       " 'HittingObstacle': 12,\n",
       " 'Jumping': 5,\n",
       " 'LyingDownFS': 7,\n",
       " 'Running': 3,\n",
       " 'SittingDown': 8,\n",
       " 'StandingUpFL': 1,\n",
       " 'StandingUpFS': 0,\n",
       " 'Syncope': 15,\n",
       " 'Walking': 2}"
      ]
     },
     "execution_count": 5,
     "metadata": {
      "tags": []
     },
     "output_type": "execute_result"
    }
   ],
   "source": [
    "dict_classes"
   ]
  },
  {
   "cell_type": "markdown",
   "metadata": {
    "id": "eLxukMR260j2"
   },
   "source": [
    "Функция _preprocess_function_ обрабатывает исходные изображения и формирует из них размеченный датасет. Она принимает на вход следующие аргументы:\n",
    "\n",
    "* _input_path_ - путь до папки с директориями с исходными изображениями,\n",
    "\n",
    "* _multiframe_ - будет ли из одного изображения нарезаться несколько (если _True_ - то да, указанной ширины и с указанным шагом, если _False_ - то все изображения будут обрезаться по ширине наименьшего),\n",
    "\n",
    "* _sample_width_ - ширина обрезанных изображений,\n",
    "\n",
    "* _step_ - шаг, с которым будет производиться нарезка изображений,\n",
    "\n",
    "* _list_of_folders_ - список директорий, в которых хранятся исходные изобраения.\n",
    "\n",
    "Функция  _preprocess_function_ возвращает два массива:\n",
    "\n",
    "* _array_ - тензор с нарезанными и предобработанными изображениями,\n",
    "\n",
    "* _targets_ - вектор целевой переменной."
   ]
  },
  {
   "cell_type": "code",
   "execution_count": 6,
   "metadata": {
    "id": "_lvjw5c5eoSs"
   },
   "outputs": [],
   "source": [
    "def preprocess_function(input_path, \n",
    "                        multiframe=True,\n",
    "                        sample_width=90, step=15,\n",
    "                        list_of_folders=[]):\n",
    "    \n",
    "    \n",
    "    array = []                             # Массив с итоговыми изображениями в матричном представлении\n",
    "    targets_words = []                     # Целевой вектор (содержит названия действий, например, Running)\n",
    "    targets = []                           # Целевой вектор в закодированном виде    \n",
    "    \n",
    "    \n",
    "    \n",
    "    \"\"\"Проверим, что пользователем указана хотя бы одна директория.\n",
    "       Если это не так, функция прервётся и возвратит \n",
    "       пустые массивы\"\"\"\n",
    "    \n",
    "    if len(list_of_folders)==0:\n",
    "        print(\"No folder is chosen. Chose at least one folder, please\")\n",
    "        return [], []    \n",
    "    \n",
    "    \n",
    "\n",
    "    path = os.path.join(input_path, list_of_folders[0])\n",
    "    \n",
    "    \n",
    "    \n",
    "    \"\"\"Проверяем, все ли папки содержатодинаковое число изображений.\n",
    "    Если нет - функция сообщит об этом пользователю и возвратит пустые массивы\"\"\"\n",
    "\n",
    "    def listdir_nohidden(path):\n",
    "        return glob.glob(os.path.join(path, '*'))      # ignore hidden files (including '.ipynb_checkpoints')\n",
    "\n",
    "    if len(list_of_folders) > 1:\n",
    "        for i in range(len(list_of_folders)-1):\n",
    "            path_1 = os.path.join(input_path, list_of_folders[i])\n",
    "            path_2 = os.path.join(input_path, list_of_folders[i+1])\n",
    "            if len(listdir_nohidden(path_1)) != len(listdir_nohidden(path_2)):\n",
    "                print(\"Error!  There are different number of files in folders!\")\n",
    "                return [], []\n",
    "    \n",
    "    \n",
    "    \n",
    "    \"\"\"Находим минимальный размер изображения min_width.\"\"\"\n",
    " \n",
    "    all_widths = []\n",
    "    \n",
    "    for filename in tqdm(os.listdir(path)):\n",
    "        if filename==\".ipynb_checkpoints\":\n",
    "            continue \n",
    "        current_image = Image.open(os.path.join(input_path, list_of_folders[0], filename))\n",
    "        data = asarray(current_image)\n",
    "        height, width, dimensions = data.shape\n",
    "        all_widths.append(width)\n",
    "        \n",
    "    min_width = min(all_widths)\n",
    "        \n",
    "        \n",
    "    \"\"\"Проводим итерацию по картинкам из выбранной директории.\n",
    "       Если вдруг какая-то картинка имеется не для всех осей,\n",
    "       программа сообщает об ошибке и возвращает пустые массивы.\n",
    "       Предполагается, что изображения в различных папках, \n",
    "       соответствующие одному и тому же объекту, \n",
    "       имеют одинаковый размер\"\"\"    \n",
    "    \n",
    "    for filename in tqdm(os.listdir(path)):\n",
    "\n",
    "        if filename==\".ipynb_checkpoints\":\n",
    "            continue\n",
    "        \n",
    "        try:\n",
    "            data_array = []\n",
    "            for folder in list_of_folders:\n",
    "                current_image = Image.open(os.path.join(input_path, folder, filename))               \n",
    "                data_array.append(current_image)\n",
    "            data = asarray(current_image)\n",
    "            height, width, dimensions = data.shape\n",
    "            \n",
    "        except:\n",
    "            print(\"Image \" + str(filename) + \" has not all the chosen axes\")\n",
    "            return [], []\n",
    "        \n",
    "        \n",
    "        if multiframe:          \n",
    "            for j in range(int(round((width - sample_width)/step + 1))):\n",
    "\n",
    "                # Зададим размеры для нарезки картинок\n",
    "                left = step*j\n",
    "                right = left + sample_width\n",
    "                top = 0\n",
    "                bottom = copy.copy(height)\n",
    "\n",
    "                # Изображение по всем выбранным осям\n",
    "                images = []\n",
    "\n",
    "                for data in data_array:\n",
    "                    im = data.crop((left, top, right, bottom)) \n",
    "                    im = transforms.functional.to_grayscale(im, 1)\n",
    "                    im = np.array(im)\n",
    "                    images.append(im)                  \n",
    "\n",
    "                images = np.array(transform(np.array(images)))\n",
    "                array.append(images)\n",
    "                targets_words.append(filename)  \n",
    "                \n",
    "        else: \n",
    "            \n",
    "            # Зададим размеры для нарезки картинок\n",
    "            left = 0\n",
    "            right = copy.copy(min_width)\n",
    "            top = 0\n",
    "            bottom = copy.copy(height) \n",
    "            \n",
    "            # Изображение по всем выбранным осям\n",
    "            images = []\n",
    "            \n",
    "            for data in data_array:\n",
    "                im = data.crop((left, top, right, bottom)) \n",
    "                im = transforms.functional.to_grayscale(im, 1)\n",
    "                im = np.array(im)\n",
    "                images.append(im)\n",
    "                \n",
    "            images = np.array(transform(np.array(images)))\n",
    "            array.append(images)\n",
    "            targets_words.append(filename) \n",
    "                \n",
    "                            \n",
    "                  \n",
    "    \"\"\"Если предшествующий код был исполнен без ошибок, \n",
    "       то теперь имеется два массива - arrays (содеожит тензоры\n",
    "       с уже нарезанными и предобработанными изображениями)\n",
    "       и targets_words (целевая переменная в виде названий типов движения).\n",
    "       Проведём кодировку целевого признака, который является \n",
    "       категориальной величиной, и запишем полученный результат\n",
    "       в вектор targets\"\"\"\n",
    "\n",
    "    for i in range(len(targets_words)):\n",
    "        targets_words[i] = targets_words[i][:-10]\n",
    "        if targets_words[i][-1] == '_':\n",
    "            targets_words[i] = targets_words[i][:-1]\n",
    "\n",
    "    for word in targets_words:\n",
    "        targets.append(dict_classes[word])\n",
    "    targets = np.array(targets)\n",
    "\n",
    "    targets = to_categorical(targets, num_classes=len(classes))\n",
    "    targets = np.array(targets)\n",
    "\n",
    "    return array, targets    "
   ]
  },
  {
   "cell_type": "markdown",
   "metadata": {
    "id": "CLym5zfZ60j5"
   },
   "source": [
    "На рисунке ниже для наглядности приведена приблизительная схема нарезки изображений и показан геометрический смысл переменных _sample_width_, _step_, _width_ и _height_, встречающихся в функции _preprocess_function_:"
   ]
  },
  {
   "cell_type": "code",
   "execution_count": null,
   "metadata": {
    "id": "kgm9474keoSu",
    "outputId": "9c45efed-1e67-4c71-88fd-631a222a93d3"
   },
   "outputs": [
    {
     "data": {
      "image/png": "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\n",
      "text/plain": [
       "<IPython.core.display.Image object>"
      ]
     },
     "execution_count": 9,
     "metadata": {
      "tags": []
     },
     "output_type": "execute_result"
    }
   ],
   "source": [
    "Image(filename='scheme.png')"
   ]
  },
  {
   "cell_type": "markdown",
   "metadata": {
    "id": "BSY3kXHS60j7"
   },
   "source": [
    "## Разбиение датасета на тренировочную и тестовую выборки"
   ]
  },
  {
   "cell_type": "markdown",
   "metadata": {
    "id": "_-rP-iUe60j7"
   },
   "source": [
    "Функция _split_function_ позволяет разбивать датасет на тренировочную и тестовую выборки. Она принимает на вход\n",
    "\n",
    "* _array_ - исходный массив признаков,\n",
    "\n",
    "* _targets_ - вектор ответов,\n",
    "\n",
    "* _test_size_ - размер тестовой выборки (по умолчанию 0.2),\n",
    "\n",
    "* _random_state_ - индекс случайного состояния (необходим для воспроизводимости результатов, в данной работе мы выбрали _random_state_ = 26).\n",
    "\n",
    "Функция _split_function_ возвращает тренировочную и тестовую выборки, разбитые в указанном соотношении, и соответсвующие им векторы ответов:\n",
    "\n",
    "* X_train, \n",
    "\n",
    "* X_test, \n",
    "\n",
    "* y_train, \n",
    "\n",
    "* y_test."
   ]
  },
  {
   "cell_type": "code",
   "execution_count": 7,
   "metadata": {
    "id": "D1pjK_ks60j8"
   },
   "outputs": [],
   "source": [
    "def split_function(array, targets, test_size=0.20, random_state=26):\n",
    "    \n",
    "    X_train, X_test, y_train, y_test = train_test_split(array, targets, \n",
    "                                                        test_size=test_size, \n",
    "                                                        shuffle=True, \n",
    "                                                        random_state=random_state)\n",
    "    \n",
    "    X_train = np.array(X_train)\n",
    "    y_train = np.array(y_train)\n",
    "    X_test = np.array(X_test)\n",
    "    y_test = np.array(y_test)\n",
    "    \n",
    "    X_train = np.transpose(X_train, (0, 3, 1, 2))\n",
    "    X_test = np.transpose(X_test, (0, 3, 1, 2))\n",
    "    \n",
    "    return X_train, X_test, y_train, y_test"
   ]
  },
  {
   "cell_type": "markdown",
   "metadata": {
    "id": "2HHfhkO860j9"
   },
   "source": [
    "## Построение нейронной сети"
   ]
  },
  {
   "cell_type": "markdown",
   "metadata": {
    "id": "BmvF4Xaa60j-"
   },
   "source": [
    "_my_callback_ - дочерний класс класса _callbacks_, позволяющий сохранять значения метрик в отдельные файлы."
   ]
  },
  {
   "cell_type": "code",
   "execution_count": 24,
   "metadata": {
    "id": "LCOKb2dt60j-"
   },
   "outputs": [],
   "source": [
    "class my_callback(tf.keras.callbacks.Callback):\n",
    "    \n",
    "    def __init__(self):\n",
    "        super().__init__()\n",
    "        self.acc = []\n",
    "        self.loss = []\n",
    "        self.rec = []\n",
    "        self.prec = []     \n",
    " \n",
    "\n",
    "    \"\"\"После каждой эпохи происходит подсчёт метрик \n",
    "    методом кросс-валидация на тренировочной выборке\"\"\"\n",
    "    \n",
    "    def on_epoch_end(self, epoch, logs=None):\n",
    "        l, a, r, p = self.model.evaluate(self.validation_data[0], \n",
    "                                         self.validation_data[1])\n",
    "        self.loss.append(l)\n",
    "        self.acc.append(a)\n",
    "        self.rec.append(r)\n",
    "        self.prec.append(p)\n",
    "\n",
    "        \n",
    "    \"\"\"После завершения обучения метрики, \n",
    "    подсчитанные для каждой эпохи, сохраняются в файл metrics.csv\"\"\"    \n",
    "    \n",
    "    def on_train_end(self, logs=None):\n",
    "\n",
    "            df = {'loss': self.loss,\n",
    "                  'accuracy': self.acc,\n",
    "                  'recall': self.rec,\n",
    "                  'precision': self.prec}\n",
    "            df = pd.DataFrame(data=df)\n",
    "            df.to_csv(\"metrics.csv\", index=False) "
   ]
  },
  {
   "cell_type": "markdown",
   "metadata": {},
   "source": [
    "Функция _create_and_run_model_ строит нейронную сеть, обучает её и создаёт файл _metrics.csv_, содержащий значения метрик. Её аргументы:\n",
    "\n",
    "* _X_train_, _X_test_, _y_train_, _y_test_ - тренировочная и тестовая выборки вместе с векторами ответов на них,\n",
    "\n",
    "* _res_model_ - модель с остаточными блоками библиотеки Keras (_keras.applications.resnet_v2.ResNet50V2_, _keras.applications.resnet_v2.ResNet101V2_, _keras.applications.resnet_v2.ResNet152V2_, _keras.applications.resnet.ResNet50_, _keras.applications.resnet.ResNet101_ или _keras.applications.resnet.ResNet152_),\n",
    "\n",
    "* _number_of_classes_ - число классов (17, по количеству различных типов активности),\n",
    "\n",
    "* _height_ - высота входных изображений,\n",
    "\n",
    "* _width_ - ширина входных изображений,\n",
    "\n",
    "* _dimensions_ - размерность (количество каналов) входных изображений,\n",
    "\n",
    "* _batch_size_ - размер батча,\n",
    "\n",
    "* _epochs_ - число эпох"
   ]
  },
  {
   "cell_type": "code",
   "execution_count": 25,
   "metadata": {
    "id": "cecLFEAm8WCH"
   },
   "outputs": [],
   "source": [
    "def create_and_run_model(X_train, X_test, y_train, y_test,\n",
    "                         res_model=keras.applications.resnet_v2.ResNet50V2,\n",
    "                         number_of_classes=len(classes),\n",
    "                         height=36,\n",
    "                         width=90,\n",
    "                         dimensions=3,\n",
    "                         batch_size=200,\n",
    "                         epochs=300):\n",
    "\n",
    "\n",
    "    model = res_model(weights=None,\n",
    "                      input_shape=(height, width, dimensions),\n",
    "                      classes=number_of_classes)                     \n",
    "\n",
    "    model.compile(optimizer = \"adam\",\n",
    "                  loss = \"binary_crossentropy\",\n",
    "                  metrics = [\"accuracy\", tf.keras.metrics.Recall(), tf.keras.metrics.Precision()])\n",
    "    \n",
    "    log_dir = \"logs/fit/\" + datetime.datetime.now().strftime(\"%Y%m%d-%H%M%S\")\n",
    "\n",
    "    loss = model.fit(X_train, y_train,\n",
    "              batch_size=batch_size,\n",
    "              epochs=epochs,\n",
    "              validation_data=(X_test, y_test),\n",
    "              callbacks=[my_callback()])"
   ]
  },
  {
   "cell_type": "markdown",
   "metadata": {
    "id": "TOYfd2y6-kST"
   },
   "source": [
    "## Пример применения функций"
   ]
  },
  {
   "cell_type": "code",
   "execution_count": 18,
   "metadata": {
    "colab": {
     "base_uri": "https://localhost:8080/"
    },
    "id": "aSTsxatP-et0",
    "outputId": "c5942971-598a-49d9-f054-a728671d515d"
   },
   "outputs": [
    {
     "name": "stderr",
     "output_type": "stream",
     "text": [
      "100%|██████████| 3/3 [00:00<00:00, 210.95it/s]\n"
     ]
    }
   ],
   "source": [
    "array, targets = preprocess_function(input_path=\"Original_wavelets\", \n",
    "                                    sample_width=90, step=15, list_of_folders=[\"X_axis\",\"Y_axis\",\"Z_axis\"])"
   ]
  },
  {
   "cell_type": "code",
   "execution_count": 19,
   "metadata": {
    "id": "QViy7kSM-fkI"
   },
   "outputs": [],
   "source": [
    "X_train, X_test, y_train, y_test = split_function(array, targets, test_size=0.20, random_state=26)"
   ]
  },
  {
   "cell_type": "code",
   "execution_count": 26,
   "metadata": {
    "colab": {
     "base_uri": "https://localhost:8080/"
    },
    "id": "qmWg39ezcKYg",
    "outputId": "e531f3df-1064-43b9-fb53-db66bc1958ad"
   },
   "outputs": [
    {
     "name": "stdout",
     "output_type": "stream",
     "text": [
      "Train on 19 samples, validate on 5 samples\n",
      "Epoch 1/5\n",
      "19/19 [==============================] - 10s 519ms/step - loss: 0.1515 - accuracy: 0.9288 - recall_3: 0.0971 - precision_3: 0.1878 - val_loss: 0.1450 - val_accuracy: 0.9412 - val_recall_3: 0.1826 - val_precision_3: 0.3333\n",
      "5/5 [==============================] - 0s 2ms/step\n",
      "Epoch 2/5\n",
      "19/19 [==============================] - 1s 62ms/step - loss: 0.1277 - accuracy: 0.9257 - recall_3: 0.1342 - precision_3: 0.3335 - val_loss: 0.1926 - val_accuracy: 0.9412 - val_recall_3: 0.1177 - val_precision_3: 0.2857\n",
      "5/5 [==============================] - 0s 2ms/step\n",
      "Epoch 3/5\n",
      "19/19 [==============================] - 1s 62ms/step - loss: 0.1455 - accuracy: 0.9288 - recall_3: 0.1363 - precision_3: 0.3240 - val_loss: 0.1229 - val_accuracy: 0.8824 - val_recall_3: 0.1500 - val_precision_3: 0.3004\n",
      "5/5 [==============================] - 0s 2ms/step\n",
      "Epoch 4/5\n",
      "19/19 [==============================] - 1s 61ms/step - loss: 0.1483 - accuracy: 0.9102 - recall_3: 0.1313 - precision_3: 0.2350 - val_loss: 0.1880 - val_accuracy: 0.8824 - val_recall_3: 0.1285 - val_precision_3: 0.2189\n",
      "5/5 [==============================] - 0s 2ms/step\n",
      "Epoch 5/5\n",
      "19/19 [==============================] - 1s 61ms/step - loss: 0.1351 - accuracy: 0.9381 - recall_3: 0.1349 - precision_3: 0.2199 - val_loss: 0.2074 - val_accuracy: 0.8824 - val_recall_3: 0.1377 - val_precision_3: 0.2236\n",
      "5/5 [==============================] - 0s 2ms/step\n",
      "<keras.callbacks.callbacks.History object at 0x7f15739b1fd0>\n"
     ]
    }
   ],
   "source": [
    "create_and_run_model(X_train, X_test, y_train, y_test, batch_size=1, epochs=5)"
   ]
  }
 ],
 "metadata": {
  "accelerator": "GPU",
  "colab": {
   "collapsed_sections": [],
   "name": "CNN_google_disk_more_samples_(2)_(1) (1).ipynb",
   "provenance": [],
   "toc_visible": true
  },
  "kernelspec": {
   "display_name": "Python 3",
   "language": "python",
   "name": "python3"
  },
  "language_info": {
   "codemirror_mode": {
    "name": "ipython",
    "version": 3
   },
   "file_extension": ".py",
   "mimetype": "text/x-python",
   "name": "python",
   "nbconvert_exporter": "python",
   "pygments_lexer": "ipython3",
   "version": "3.8.5"
  }
 },
 "nbformat": 4,
 "nbformat_minor": 1
}
